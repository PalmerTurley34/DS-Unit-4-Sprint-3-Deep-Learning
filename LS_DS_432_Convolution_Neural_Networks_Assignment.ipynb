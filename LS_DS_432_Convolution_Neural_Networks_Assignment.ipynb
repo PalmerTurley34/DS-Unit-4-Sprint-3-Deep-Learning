{
  "nbformat": 4,
  "nbformat_minor": 0,
  "metadata": {
    "kernelspec": {
      "name": "python3",
      "display_name": "Python 3"
    },
    "nteract": {
      "version": "0.23.1"
    },
    "colab": {
      "name": "LS_DS_432_Convolution_Neural_Networks_Assignment.ipynb",
      "provenance": [],
      "include_colab_link": true
    },
    "accelerator": "GPU"
  },
  "cells": [
    {
      "cell_type": "markdown",
      "metadata": {
        "id": "view-in-github",
        "colab_type": "text"
      },
      "source": [
        "<a href=\"https://colab.research.google.com/github/PalmerTurley34/DS-Unit-4-Sprint-3-Deep-Learning/blob/main/LS_DS_432_Convolution_Neural_Networks_Assignment.ipynb\" target=\"_parent\"><img src=\"https://colab.research.google.com/assets/colab-badge.svg\" alt=\"Open In Colab\"/></a>"
      ]
    },
    {
      "cell_type": "markdown",
      "metadata": {
        "id": "80KYB1tqiRxu",
        "colab_type": "text"
      },
      "source": [
        "<img align=\"left\" src=\"https://lever-client-logos.s3.amazonaws.com/864372b1-534c-480e-acd5-9711f850815c-1524247202159.png\" width=200>\n",
        "<br></br>\n",
        "<br></br>\n",
        "\n",
        "## *Data Science Unit 4 Sprint 3 Assignment 2*\n",
        "# Convolutional Neural Networks (CNNs)"
      ]
    },
    {
      "cell_type": "markdown",
      "metadata": {
        "colab_type": "text",
        "id": "0lfZdD_cp1t5"
      },
      "source": [
        "# Assignment\n",
        "\n",
        "- <a href=\"#p1\">Part 1:</a> Pre-Trained Model\n",
        "- <a href=\"#p2\">Part 2:</a> Custom CNN Model\n",
        "- <a href=\"#p3\">Part 3:</a> CNN with Data Augmentation\n",
        "\n",
        "\n",
        "You will apply three different CNN models to a binary image classification model using Keras. Classify images of Mountains (`./data/train/mountain/*`) and images of forests (`./data/train/forest/*`). Treat mountains as the positive class (1) and the forest images as the negative (zero). \n",
        "\n",
        "|Mountain (+)|Forest (-)|\n",
        "|---|---|\n",
        "|![](https://github.com/PalmerTurley34/DS-Unit-4-Sprint-3-Deep-Learning/blob/main/module2-convolutional-neural-networks/data/train/mountain/art1131.jpg?raw=1)|![](https://github.com/PalmerTurley34/DS-Unit-4-Sprint-3-Deep-Learning/blob/main/module2-convolutional-neural-networks/data/validation/forest/cdmc317.jpg?raw=1)|\n",
        "\n",
        "The problem is relatively difficult given that the sample is tiny: there are about 350 observations per class. This sample size might be something that you can expect with prototyping an image classification problem/solution at work. Get accustomed to evaluating several different possible models."
      ]
    },
    {
      "cell_type": "markdown",
      "metadata": {
        "colab_type": "text",
        "id": "PtCLF8NoiRxy"
      },
      "source": [
        "# Pre - Trained Model\n",
        "<a id=\"p1\"></a>\n",
        "\n",
        "Load a pretrained network from Keras, [ResNet50](https://tfhub.dev/google/imagenet/resnet_v1_50/classification/1) - a 50 layer deep network trained to recognize [1000 objects](https://storage.googleapis.com/download.tensorflow.org/data/ImageNetLabels.txt). Starting usage:\n",
        "\n",
        "```python\n",
        "import numpy as np\n",
        "\n",
        "from tensorflow.keras.applications.resnet50 import ResNet50\n",
        "from tensorflow.keras.preprocessing import image\n",
        "from tensorflow.keras.applications.resnet50 import preprocess_input, decode_predictions\n",
        "\n",
        "from tensorflow.keras.layers import Dense, GlobalAveragePooling2D\n",
        "from tensorflow.keras.models import Model # This is the functional API\n",
        "\n",
        "resnet = ResNet50(weights='imagenet', include_top=False)\n",
        "\n",
        "```\n",
        "\n",
        "The `include_top` parameter in `ResNet50` will remove the full connected layers from the ResNet model. The next step is to turn off the training of the ResNet layers. We want to use the learned parameters without updating them in future training passes. \n",
        "\n",
        "```python\n",
        "for layer in resnet.layers:\n",
        "    layer.trainable = False\n",
        "```\n",
        "\n",
        "Using the Keras functional API, we will need to additional additional full connected layers to our model. We we removed the top layers, we removed all preivous fully connected layers. In other words, we kept only the feature processing portions of our network. You can expert with additional layers beyond what's listed here. The `GlobalAveragePooling2D` layer functions as a really fancy flatten function by taking the average of each of the last convolutional layer outputs (which is two dimensional still). \n",
        "\n",
        "```python\n",
        "x = resnet.output\n",
        "x = GlobalAveragePooling2D()(x) # This layer is a really fancy flatten\n",
        "x = Dense(1024, activation='relu')(x)\n",
        "predictions = Dense(1, activation='sigmoid')(x)\n",
        "model = Model(resnet.input, predictions)\n",
        "```\n",
        "\n",
        "Your assignment is to apply the transfer learning above to classify images of Mountains (`./data/train/mountain/*`) and images of forests (`./data/train/forest/*`). Treat mountains as the positive class (1) and the forest images as the negative (zero). \n",
        "\n",
        "Steps to complete assignment: \n",
        "1. Load in Image Data into numpy arrays (`X`) \n",
        "2. Create a `y` for the labels\n",
        "3. Train your model with pre-trained layers from resnet\n",
        "4. Report your model's accuracy"
      ]
    },
    {
      "cell_type": "markdown",
      "metadata": {
        "id": "hR3Z3MeliRx1",
        "colab_type": "text"
      },
      "source": [
        "## Load in Data\n",
        "\n",
        "This surprisingly more difficult than it seems, because you are working with directories of images instead of a single file. This boiler plate will help you download a zipped version of the directory of images. The directory is organized into \"train\" and \"validation\" which you can use inside an `ImageGenerator` class to stream batches of images thru your model.  \n"
      ]
    },
    {
      "cell_type": "code",
      "metadata": {
        "id": "fBJkg9Xi5cN-",
        "colab_type": "code",
        "colab": {
          "base_uri": "https://localhost:8080/",
          "height": 102
        },
        "outputId": "0ca92cf8-21ca-406f-b0c2-469eae9ece5b"
      },
      "source": [
        "! git clone https://github.com/PalmerTurley34/DS-Unit-4-Sprint-3-Deep-Learning.git"
      ],
      "execution_count": 1,
      "outputs": [
        {
          "output_type": "stream",
          "text": [
            "Cloning into 'DS-Unit-4-Sprint-3-Deep-Learning'...\n",
            "remote: Enumerating objects: 1115, done.\u001b[K\n",
            "remote: Total 1115 (delta 0), reused 0 (delta 0), pack-reused 1115\u001b[K\n",
            "Receiving objects: 100% (1115/1115), 100.16 MiB | 44.83 MiB/s, done.\n",
            "Resolving deltas: 100% (125/125), done.\n"
          ],
          "name": "stdout"
        }
      ]
    },
    {
      "cell_type": "markdown",
      "metadata": {
        "id": "5iwkaQY9iRx2",
        "colab_type": "text"
      },
      "source": [
        "### Download & Summarize the Data\n",
        "\n",
        "This step is completed for you. Just run the cells and review the results. "
      ]
    },
    {
      "cell_type": "code",
      "metadata": {
        "id": "JK_D-z_yiRx3",
        "colab_type": "code",
        "colab": {}
      },
      "source": [
        "import tensorflow as tf\n",
        "import os\n",
        "\n",
        "_URL = 'https://github.com/LambdaSchool/DS-Unit-4-Sprint-3-Deep-Learning/blob/main/module2-convolutional-neural-networks/data.zip?raw=true'\n",
        "\n",
        "path_to_zip = tf.keras.utils.get_file('data.zip', origin=_URL, extract=True)\n",
        "PATH = 'data'"
      ],
      "execution_count": 6,
      "outputs": []
    },
    {
      "cell_type": "code",
      "metadata": {
        "id": "kN5s_3hKiRx9",
        "colab_type": "code",
        "colab": {}
      },
      "source": [
        "train_dir = os.path.join(PATH, 'train')\n",
        "validation_dir = os.path.join(PATH, 'validation')"
      ],
      "execution_count": 8,
      "outputs": []
    },
    {
      "cell_type": "code",
      "metadata": {
        "id": "FsGJOXVMiRyD",
        "colab_type": "code",
        "colab": {}
      },
      "source": [
        "train_mountain_dir = os.path.join(train_dir, 'mountain')  # directory with our training cat pictures\n",
        "train_forest_dir = os.path.join(train_dir, 'forest')  # directory with our training dog pictures\n",
        "validation_mountain_dir = os.path.join(validation_dir, 'mountain')  # directory with our validation cat pictures\n",
        "validation_forest_dir = os.path.join(validation_dir, 'forest')  # directory with our validation dog pictures"
      ],
      "execution_count": 9,
      "outputs": []
    },
    {
      "cell_type": "code",
      "metadata": {
        "id": "C8V7HHbQiRyH",
        "colab_type": "code",
        "colab": {}
      },
      "source": [
        "num_mountain_tr = len(os.listdir(train_mountain_dir))\n",
        "num_forest_tr = len(os.listdir(train_forest_dir))\n",
        "\n",
        "num_mountain_val = len(os.listdir(validation_mountain_dir))\n",
        "num_forest_val = len(os.listdir(validation_forest_dir))\n",
        "\n",
        "total_train = num_mountain_tr + num_forest_tr\n",
        "total_val = num_mountain_val + num_forest_val"
      ],
      "execution_count": 10,
      "outputs": []
    },
    {
      "cell_type": "code",
      "metadata": {
        "id": "_qhzvNWhiRyN",
        "colab_type": "code",
        "colab": {
          "base_uri": "https://localhost:8080/",
          "height": 136
        },
        "outputId": "d98b01ff-5f17-480b-e066-e97aaf5d4cc0"
      },
      "source": [
        "print('total training mountain images:', num_mountain_tr)\n",
        "print('total training forest images:', num_forest_tr)\n",
        "\n",
        "print('total validation mountain images:', num_mountain_val)\n",
        "print('total validation forest images:', num_forest_val)\n",
        "print(\"--\")\n",
        "print(\"Total training images:\", total_train)\n",
        "print(\"Total validation images:\", total_val)"
      ],
      "execution_count": 11,
      "outputs": [
        {
          "output_type": "stream",
          "text": [
            "total training mountain images: 253\n",
            "total training forest images: 269\n",
            "total validation mountain images: 124\n",
            "total validation forest images: 61\n",
            "--\n",
            "Total training images: 522\n",
            "Total validation images: 185\n"
          ],
          "name": "stdout"
        }
      ]
    },
    {
      "cell_type": "markdown",
      "metadata": {
        "id": "2dlyBC6biRyU",
        "colab_type": "text"
      },
      "source": [
        "### Keras `ImageGenerator` to Process the Data\n",
        "\n",
        "This step is completed for you, but please review the code. The `ImageGenerator` class reads in batches of data from a directory and pass them to the model one batch at a time. Just like large text files, this method is advantageous, because it stifles the need to load a bunch of images into memory. \n",
        "\n",
        "Check out the documentation for this class method: [Keras `ImageGenerator` Class](https://keras.io/preprocessing/image/#imagedatagenerator-class). You'll expand it's use in the third assignment objective."
      ]
    },
    {
      "cell_type": "code",
      "metadata": {
        "id": "ETywh5T1iRyU",
        "colab_type": "code",
        "colab": {}
      },
      "source": [
        "batch_size = 16\n",
        "epochs = 50\n",
        "IMG_HEIGHT = 224\n",
        "IMG_WIDTH = 224"
      ],
      "execution_count": 12,
      "outputs": []
    },
    {
      "cell_type": "code",
      "metadata": {
        "id": "J435jnyjiRyZ",
        "colab_type": "code",
        "colab": {}
      },
      "source": [
        "from tensorflow.keras.preprocessing.image import ImageDataGenerator\n",
        "\n",
        "train_image_generator = ImageDataGenerator(rescale=1./255) # Generator for our training data\n",
        "validation_image_generator = ImageDataGenerator(rescale=1./255) # Generator for our validation data"
      ],
      "execution_count": 13,
      "outputs": []
    },
    {
      "cell_type": "code",
      "metadata": {
        "id": "Z_NIhmijiRyd",
        "colab_type": "code",
        "colab": {
          "base_uri": "https://localhost:8080/",
          "height": 34
        },
        "outputId": "a5e5ea49-808c-48c1-fb9b-820212f29f71"
      },
      "source": [
        "train_data_gen = train_image_generator.flow_from_directory(batch_size=batch_size,\n",
        "                                                           directory=train_dir,\n",
        "                                                           shuffle=True,\n",
        "                                                           target_size=(IMG_HEIGHT, IMG_WIDTH),\n",
        "                                                           class_mode='binary')"
      ],
      "execution_count": 14,
      "outputs": [
        {
          "output_type": "stream",
          "text": [
            "Found 520 images belonging to 2 classes.\n"
          ],
          "name": "stdout"
        }
      ]
    },
    {
      "cell_type": "code",
      "metadata": {
        "id": "KqgoCsIHiRyg",
        "colab_type": "code",
        "colab": {
          "base_uri": "https://localhost:8080/",
          "height": 34
        },
        "outputId": "81f042e7-629c-40a9-a416-8f7bd9695db9"
      },
      "source": [
        "val_data_gen = validation_image_generator.flow_from_directory(batch_size=batch_size,\n",
        "                                                              directory=validation_dir,\n",
        "                                                              target_size=(IMG_HEIGHT, IMG_WIDTH),\n",
        "                                                              class_mode='binary')"
      ],
      "execution_count": 15,
      "outputs": [
        {
          "output_type": "stream",
          "text": [
            "Found 182 images belonging to 2 classes.\n"
          ],
          "name": "stdout"
        }
      ]
    },
    {
      "cell_type": "markdown",
      "metadata": {
        "id": "dmLSRd4fiRyl",
        "colab_type": "text"
      },
      "source": [
        "## Instatiate Model"
      ]
    },
    {
      "cell_type": "code",
      "metadata": {
        "id": "zzqNUiKBFIAO",
        "colab_type": "code",
        "colab": {
          "base_uri": "https://localhost:8080/",
          "height": 51
        },
        "outputId": "b023fb85-dfb9-4dde-d19b-f1b0a4f14f46"
      },
      "source": [
        "import numpy as np\n",
        " \n",
        "from tensorflow.keras.applications.resnet50 import ResNet50\n",
        "from tensorflow.keras.preprocessing import image\n",
        "from tensorflow.keras.applications.resnet50 import preprocess_input, decode_predictions\n",
        " \n",
        "from tensorflow.keras.layers import Dense, GlobalAveragePooling2D\n",
        "from tensorflow.keras.models import Model # This is the functional API\n",
        " \n",
        "resnet = ResNet50(weights='imagenet', include_top=False)"
      ],
      "execution_count": 16,
      "outputs": [
        {
          "output_type": "stream",
          "text": [
            "Downloading data from https://storage.googleapis.com/tensorflow/keras-applications/resnet/resnet50_weights_tf_dim_ordering_tf_kernels_notop.h5\n",
            "94773248/94765736 [==============================] - 1s 0us/step\n"
          ],
          "name": "stdout"
        }
      ]
    },
    {
      "cell_type": "code",
      "metadata": {
        "id": "btOoYPHoFJmI",
        "colab_type": "code",
        "colab": {}
      },
      "source": [
        "for layer in resnet.layers:\n",
        "    layer.trainable = False"
      ],
      "execution_count": 17,
      "outputs": []
    },
    {
      "cell_type": "code",
      "metadata": {
        "id": "VxNGieguFNZi",
        "colab_type": "code",
        "colab": {}
      },
      "source": [
        "x = resnet.output\n",
        "x = GlobalAveragePooling2D()(x) # This layer is a really fancy flatten\n",
        "x = Dense(1024, activation='relu')(x)\n",
        "predictions = Dense(1, activation='sigmoid')(x)\n",
        "model = Model(resnet.input, predictions)"
      ],
      "execution_count": 18,
      "outputs": []
    },
    {
      "cell_type": "code",
      "metadata": {
        "id": "QWWkDPCYFclk",
        "colab_type": "code",
        "colab": {}
      },
      "source": [
        "model.compile(optimizer='adam', loss='binary_crossentropy', metrics=['binary_accuracy'])"
      ],
      "execution_count": 21,
      "outputs": []
    },
    {
      "cell_type": "markdown",
      "metadata": {
        "id": "56zspLlliRyq",
        "colab_type": "text"
      },
      "source": [
        "## Fit Model"
      ]
    },
    {
      "cell_type": "code",
      "metadata": {
        "id": "jmCPhWHniRyr",
        "colab_type": "code",
        "colab": {
          "base_uri": "https://localhost:8080/",
          "height": 1000
        },
        "outputId": "15ff0c82-bb21-4bb0-d127-b6f9dfdfccd5"
      },
      "source": [
        "history = model.fit(\n",
        "    train_data_gen,\n",
        "    steps_per_epoch=total_train // batch_size,\n",
        "    epochs=epochs,\n",
        "    validation_data=val_data_gen,\n",
        "    validation_steps=total_val // batch_size\n",
        ")"
      ],
      "execution_count": 22,
      "outputs": [
        {
          "output_type": "stream",
          "text": [
            "Epoch 1/50\n",
            "32/32 [==============================] - 3s 99ms/step - loss: 0.4588 - binary_accuracy: 0.7937 - val_loss: 0.3258 - val_binary_accuracy: 0.8466\n",
            "Epoch 2/50\n",
            "32/32 [==============================] - 2s 77ms/step - loss: 0.3047 - binary_accuracy: 0.8790 - val_loss: 0.9307 - val_binary_accuracy: 0.5170\n",
            "Epoch 3/50\n",
            "32/32 [==============================] - 2s 78ms/step - loss: 0.3319 - binary_accuracy: 0.8631 - val_loss: 0.3193 - val_binary_accuracy: 0.8807\n",
            "Epoch 4/50\n",
            "32/32 [==============================] - 2s 78ms/step - loss: 0.2743 - binary_accuracy: 0.8988 - val_loss: 0.3156 - val_binary_accuracy: 0.8636\n",
            "Epoch 5/50\n",
            "32/32 [==============================] - 2s 77ms/step - loss: 0.2405 - binary_accuracy: 0.9385 - val_loss: 0.2651 - val_binary_accuracy: 0.9091\n",
            "Epoch 6/50\n",
            "32/32 [==============================] - 2s 77ms/step - loss: 0.2183 - binary_accuracy: 0.9286 - val_loss: 0.2532 - val_binary_accuracy: 0.9205\n",
            "Epoch 7/50\n",
            "32/32 [==============================] - 3s 80ms/step - loss: 0.2214 - binary_accuracy: 0.9206 - val_loss: 0.3226 - val_binary_accuracy: 0.8466\n",
            "Epoch 8/50\n",
            "32/32 [==============================] - 2s 78ms/step - loss: 0.2177 - binary_accuracy: 0.9206 - val_loss: 0.2391 - val_binary_accuracy: 0.9148\n",
            "Epoch 9/50\n",
            "32/32 [==============================] - 3s 78ms/step - loss: 0.2250 - binary_accuracy: 0.9127 - val_loss: 0.2825 - val_binary_accuracy: 0.8977\n",
            "Epoch 10/50\n",
            "32/32 [==============================] - 2s 78ms/step - loss: 0.1935 - binary_accuracy: 0.9306 - val_loss: 0.2943 - val_binary_accuracy: 0.8693\n",
            "Epoch 11/50\n",
            "32/32 [==============================] - 3s 80ms/step - loss: 0.2350 - binary_accuracy: 0.8889 - val_loss: 0.3105 - val_binary_accuracy: 0.8693\n",
            "Epoch 12/50\n",
            "32/32 [==============================] - 3s 79ms/step - loss: 0.1725 - binary_accuracy: 0.9425 - val_loss: 0.2436 - val_binary_accuracy: 0.9318\n",
            "Epoch 13/50\n",
            "32/32 [==============================] - 3s 79ms/step - loss: 0.1808 - binary_accuracy: 0.9226 - val_loss: 0.2366 - val_binary_accuracy: 0.9148\n",
            "Epoch 14/50\n",
            "32/32 [==============================] - 2s 77ms/step - loss: 0.2302 - binary_accuracy: 0.9008 - val_loss: 0.2534 - val_binary_accuracy: 0.9034\n",
            "Epoch 15/50\n",
            "32/32 [==============================] - 2s 78ms/step - loss: 0.1907 - binary_accuracy: 0.9266 - val_loss: 0.5631 - val_binary_accuracy: 0.7614\n",
            "Epoch 16/50\n",
            "32/32 [==============================] - 2s 78ms/step - loss: 0.1653 - binary_accuracy: 0.9365 - val_loss: 0.2032 - val_binary_accuracy: 0.9489\n",
            "Epoch 17/50\n",
            "32/32 [==============================] - 3s 78ms/step - loss: 0.2079 - binary_accuracy: 0.9187 - val_loss: 0.3414 - val_binary_accuracy: 0.8523\n",
            "Epoch 18/50\n",
            "32/32 [==============================] - 2s 78ms/step - loss: 0.2008 - binary_accuracy: 0.9206 - val_loss: 0.2871 - val_binary_accuracy: 0.8864\n",
            "Epoch 19/50\n",
            "32/32 [==============================] - 2s 78ms/step - loss: 0.1571 - binary_accuracy: 0.9464 - val_loss: 0.2025 - val_binary_accuracy: 0.9375\n",
            "Epoch 20/50\n",
            "32/32 [==============================] - 3s 79ms/step - loss: 0.1317 - binary_accuracy: 0.9504 - val_loss: 0.2042 - val_binary_accuracy: 0.9318\n",
            "Epoch 21/50\n",
            "32/32 [==============================] - 3s 79ms/step - loss: 0.1606 - binary_accuracy: 0.9325 - val_loss: 0.2063 - val_binary_accuracy: 0.9318\n",
            "Epoch 22/50\n",
            "32/32 [==============================] - 3s 79ms/step - loss: 0.1115 - binary_accuracy: 0.9524 - val_loss: 0.2013 - val_binary_accuracy: 0.9432\n",
            "Epoch 23/50\n",
            "32/32 [==============================] - 3s 78ms/step - loss: 0.1594 - binary_accuracy: 0.9405 - val_loss: 0.2814 - val_binary_accuracy: 0.8864\n",
            "Epoch 24/50\n",
            "32/32 [==============================] - 3s 78ms/step - loss: 0.0996 - binary_accuracy: 0.9742 - val_loss: 0.2830 - val_binary_accuracy: 0.8807\n",
            "Epoch 25/50\n",
            "32/32 [==============================] - 2s 77ms/step - loss: 0.0962 - binary_accuracy: 0.9683 - val_loss: 0.2742 - val_binary_accuracy: 0.8864\n",
            "Epoch 26/50\n",
            "32/32 [==============================] - 2s 78ms/step - loss: 0.1399 - binary_accuracy: 0.9385 - val_loss: 0.1657 - val_binary_accuracy: 0.9489\n",
            "Epoch 27/50\n",
            "32/32 [==============================] - 2s 77ms/step - loss: 0.1321 - binary_accuracy: 0.9484 - val_loss: 0.2538 - val_binary_accuracy: 0.9034\n",
            "Epoch 28/50\n",
            "32/32 [==============================] - 2s 78ms/step - loss: 0.1627 - binary_accuracy: 0.9345 - val_loss: 0.5197 - val_binary_accuracy: 0.7898\n",
            "Epoch 29/50\n",
            "32/32 [==============================] - 2s 78ms/step - loss: 0.1222 - binary_accuracy: 0.9544 - val_loss: 0.2727 - val_binary_accuracy: 0.8977\n",
            "Epoch 30/50\n",
            "32/32 [==============================] - 2s 77ms/step - loss: 0.0967 - binary_accuracy: 0.9623 - val_loss: 0.2106 - val_binary_accuracy: 0.9375\n",
            "Epoch 31/50\n",
            "32/32 [==============================] - 3s 79ms/step - loss: 0.0994 - binary_accuracy: 0.9702 - val_loss: 0.2391 - val_binary_accuracy: 0.9261\n",
            "Epoch 32/50\n",
            "32/32 [==============================] - 3s 78ms/step - loss: 0.0900 - binary_accuracy: 0.9663 - val_loss: 0.6353 - val_binary_accuracy: 0.8068\n",
            "Epoch 33/50\n",
            "32/32 [==============================] - 2s 78ms/step - loss: 0.1674 - binary_accuracy: 0.9266 - val_loss: 0.2392 - val_binary_accuracy: 0.8977\n",
            "Epoch 34/50\n",
            "32/32 [==============================] - 2s 78ms/step - loss: 0.1036 - binary_accuracy: 0.9623 - val_loss: 0.2466 - val_binary_accuracy: 0.9034\n",
            "Epoch 35/50\n",
            "32/32 [==============================] - 2s 78ms/step - loss: 0.0720 - binary_accuracy: 0.9762 - val_loss: 0.2004 - val_binary_accuracy: 0.9432\n",
            "Epoch 36/50\n",
            "32/32 [==============================] - 3s 78ms/step - loss: 0.0989 - binary_accuracy: 0.9663 - val_loss: 0.2185 - val_binary_accuracy: 0.9148\n",
            "Epoch 37/50\n",
            "32/32 [==============================] - 3s 79ms/step - loss: 0.1367 - binary_accuracy: 0.9425 - val_loss: 0.1854 - val_binary_accuracy: 0.9318\n",
            "Epoch 38/50\n",
            "32/32 [==============================] - 3s 78ms/step - loss: 0.1515 - binary_accuracy: 0.9444 - val_loss: 0.7759 - val_binary_accuracy: 0.7557\n",
            "Epoch 39/50\n",
            "32/32 [==============================] - 3s 80ms/step - loss: 0.1559 - binary_accuracy: 0.9306 - val_loss: 0.4313 - val_binary_accuracy: 0.8352\n",
            "Epoch 40/50\n",
            "32/32 [==============================] - 3s 79ms/step - loss: 0.0721 - binary_accuracy: 0.9742 - val_loss: 0.2379 - val_binary_accuracy: 0.9205\n",
            "Epoch 41/50\n",
            "32/32 [==============================] - 2s 78ms/step - loss: 0.1088 - binary_accuracy: 0.9563 - val_loss: 0.2219 - val_binary_accuracy: 0.9318\n",
            "Epoch 42/50\n",
            "32/32 [==============================] - 2s 78ms/step - loss: 0.0648 - binary_accuracy: 0.9821 - val_loss: 0.2325 - val_binary_accuracy: 0.9318\n",
            "Epoch 43/50\n",
            "32/32 [==============================] - 2s 77ms/step - loss: 0.0598 - binary_accuracy: 0.9821 - val_loss: 0.2424 - val_binary_accuracy: 0.9375\n",
            "Epoch 44/50\n",
            "32/32 [==============================] - 2s 78ms/step - loss: 0.0635 - binary_accuracy: 0.9802 - val_loss: 0.1962 - val_binary_accuracy: 0.9375\n",
            "Epoch 45/50\n",
            "32/32 [==============================] - 2s 77ms/step - loss: 0.0726 - binary_accuracy: 0.9683 - val_loss: 0.1975 - val_binary_accuracy: 0.9375\n",
            "Epoch 46/50\n",
            "32/32 [==============================] - 2s 78ms/step - loss: 0.0633 - binary_accuracy: 0.9782 - val_loss: 0.1927 - val_binary_accuracy: 0.9432\n",
            "Epoch 47/50\n",
            "32/32 [==============================] - 2s 78ms/step - loss: 0.0617 - binary_accuracy: 0.9742 - val_loss: 0.2925 - val_binary_accuracy: 0.8977\n",
            "Epoch 48/50\n",
            "32/32 [==============================] - 2s 78ms/step - loss: 0.0722 - binary_accuracy: 0.9762 - val_loss: 0.2170 - val_binary_accuracy: 0.9375\n",
            "Epoch 49/50\n",
            "32/32 [==============================] - 2s 77ms/step - loss: 0.0642 - binary_accuracy: 0.9722 - val_loss: 0.2100 - val_binary_accuracy: 0.9432\n",
            "Epoch 50/50\n",
            "32/32 [==============================] - 2s 77ms/step - loss: 0.0640 - binary_accuracy: 0.9702 - val_loss: 0.2773 - val_binary_accuracy: 0.9091\n"
          ],
          "name": "stdout"
        }
      ]
    },
    {
      "cell_type": "markdown",
      "metadata": {
        "id": "uBbEeB9_iRyu",
        "colab_type": "text"
      },
      "source": [
        "# Custom CNN Model\n",
        "\n",
        "In this step, write and train your own convolutional neural network using Keras. You can use any architecture that suits you as long as it has at least one convolutional and one pooling layer at the beginning of the network - you can add more if you want. "
      ]
    },
    {
      "cell_type": "code",
      "metadata": {
        "id": "FwVHweTMiRyv",
        "colab_type": "code",
        "colab": {}
      },
      "source": [
        "# Define the Model\n",
        "from tensorflow.keras.models import Sequential\n",
        "from tensorflow.keras.layers import Dense, Conv2D, MaxPooling2D, Flatten, Dropout\n",
        "\n",
        "model = Sequential()\n",
        "model.add(Conv2D(32, (3,3), activation='relu', input_shape=(IMG_HEIGHT, IMG_WIDTH, 3)))\n",
        "model.add(MaxPooling2D((2,2)))\n",
        "model.add(Dropout(0.2))\n",
        "\n",
        "model.add(Conv2D(16, (3,3), activation='relu'))\n",
        "model.add(MaxPooling2D((2,2)))\n",
        "model.add(Dropout(0.2))\n",
        "\n",
        "model.add(Conv2D(32, (3,3), activation='relu'))\n",
        "model.add(Flatten())\n",
        "model.add(Dense(32, activation='relu'))\n",
        "model.add(Dropout(0.2))\n",
        "\n",
        "model.add(Dense(1, activation='sigmoid'))"
      ],
      "execution_count": 67,
      "outputs": []
    },
    {
      "cell_type": "code",
      "metadata": {
        "id": "RjOxBoDXiRyy",
        "colab_type": "code",
        "colab": {}
      },
      "source": [
        "# Compile Model\n",
        "model.compile(optimizer='adam', loss='binary_crossentropy', metrics=['binary_accuracy'])"
      ],
      "execution_count": 68,
      "outputs": []
    },
    {
      "cell_type": "code",
      "metadata": {
        "id": "D-9pphbViRy2",
        "colab_type": "code",
        "colab": {
          "base_uri": "https://localhost:8080/",
          "height": 1000
        },
        "outputId": "31c814a3-386d-4d75-8a27-952d93a4d0f1"
      },
      "source": [
        "# Fit Model\n",
        "model.fit(\n",
        "    train_data_gen,\n",
        "    epochs=30,\n",
        "    validation_data=val_data_gen\n",
        ")"
      ],
      "execution_count": 69,
      "outputs": [
        {
          "output_type": "stream",
          "text": [
            "Epoch 1/30\n",
            "33/33 [==============================] - 2s 58ms/step - loss: 0.4542 - binary_accuracy: 0.7885 - val_loss: 0.6754 - val_binary_accuracy: 0.7582\n",
            "Epoch 2/30\n",
            "33/33 [==============================] - 2s 53ms/step - loss: 0.2313 - binary_accuracy: 0.9212 - val_loss: 0.1807 - val_binary_accuracy: 0.9231\n",
            "Epoch 3/30\n",
            "33/33 [==============================] - 2s 54ms/step - loss: 0.2122 - binary_accuracy: 0.9269 - val_loss: 0.2239 - val_binary_accuracy: 0.9121\n",
            "Epoch 4/30\n",
            "33/33 [==============================] - 2s 55ms/step - loss: 0.1397 - binary_accuracy: 0.9404 - val_loss: 0.1710 - val_binary_accuracy: 0.9341\n",
            "Epoch 5/30\n",
            "33/33 [==============================] - 2s 54ms/step - loss: 0.1979 - binary_accuracy: 0.9269 - val_loss: 0.2414 - val_binary_accuracy: 0.9066\n",
            "Epoch 6/30\n",
            "33/33 [==============================] - 2s 54ms/step - loss: 0.1238 - binary_accuracy: 0.9615 - val_loss: 0.1707 - val_binary_accuracy: 0.9286\n",
            "Epoch 7/30\n",
            "33/33 [==============================] - 2s 55ms/step - loss: 0.1151 - binary_accuracy: 0.9558 - val_loss: 0.2197 - val_binary_accuracy: 0.9066\n",
            "Epoch 8/30\n",
            "33/33 [==============================] - 2s 54ms/step - loss: 0.1374 - binary_accuracy: 0.9519 - val_loss: 0.2500 - val_binary_accuracy: 0.9066\n",
            "Epoch 9/30\n",
            "33/33 [==============================] - 2s 53ms/step - loss: 0.1384 - binary_accuracy: 0.9462 - val_loss: 0.1715 - val_binary_accuracy: 0.9341\n",
            "Epoch 10/30\n",
            "33/33 [==============================] - 2s 55ms/step - loss: 0.0820 - binary_accuracy: 0.9673 - val_loss: 0.2069 - val_binary_accuracy: 0.9176\n",
            "Epoch 11/30\n",
            "33/33 [==============================] - 2s 54ms/step - loss: 0.0924 - binary_accuracy: 0.9615 - val_loss: 0.1796 - val_binary_accuracy: 0.9396\n",
            "Epoch 12/30\n",
            "33/33 [==============================] - 2s 54ms/step - loss: 0.0650 - binary_accuracy: 0.9712 - val_loss: 0.4475 - val_binary_accuracy: 0.8516\n",
            "Epoch 13/30\n",
            "33/33 [==============================] - 2s 54ms/step - loss: 0.0600 - binary_accuracy: 0.9808 - val_loss: 0.2094 - val_binary_accuracy: 0.9286\n",
            "Epoch 14/30\n",
            "33/33 [==============================] - 2s 53ms/step - loss: 0.1128 - binary_accuracy: 0.9519 - val_loss: 0.2980 - val_binary_accuracy: 0.8846\n",
            "Epoch 15/30\n",
            "33/33 [==============================] - 2s 55ms/step - loss: 0.0489 - binary_accuracy: 0.9846 - val_loss: 0.2049 - val_binary_accuracy: 0.9231\n",
            "Epoch 16/30\n",
            "33/33 [==============================] - 2s 54ms/step - loss: 0.0250 - binary_accuracy: 0.9923 - val_loss: 0.3491 - val_binary_accuracy: 0.8791\n",
            "Epoch 17/30\n",
            "33/33 [==============================] - 2s 54ms/step - loss: 0.0428 - binary_accuracy: 0.9808 - val_loss: 0.2194 - val_binary_accuracy: 0.9286\n",
            "Epoch 18/30\n",
            "33/33 [==============================] - 2s 54ms/step - loss: 0.1194 - binary_accuracy: 0.9519 - val_loss: 0.1808 - val_binary_accuracy: 0.9396\n",
            "Epoch 19/30\n",
            "33/33 [==============================] - 2s 52ms/step - loss: 0.0734 - binary_accuracy: 0.9827 - val_loss: 0.3517 - val_binary_accuracy: 0.9066\n",
            "Epoch 20/30\n",
            "33/33 [==============================] - 2s 53ms/step - loss: 0.1011 - binary_accuracy: 0.9712 - val_loss: 0.2362 - val_binary_accuracy: 0.9176\n",
            "Epoch 21/30\n",
            "33/33 [==============================] - 2s 54ms/step - loss: 0.0252 - binary_accuracy: 0.9942 - val_loss: 0.2466 - val_binary_accuracy: 0.9396\n",
            "Epoch 22/30\n",
            "33/33 [==============================] - 2s 55ms/step - loss: 0.0180 - binary_accuracy: 0.9942 - val_loss: 0.3182 - val_binary_accuracy: 0.9011\n",
            "Epoch 23/30\n",
            "33/33 [==============================] - 2s 54ms/step - loss: 0.0149 - binary_accuracy: 0.9962 - val_loss: 0.4733 - val_binary_accuracy: 0.8791\n",
            "Epoch 24/30\n",
            "33/33 [==============================] - 2s 54ms/step - loss: 0.0330 - binary_accuracy: 0.9808 - val_loss: 0.2621 - val_binary_accuracy: 0.9341\n",
            "Epoch 25/30\n",
            "33/33 [==============================] - 2s 53ms/step - loss: 0.0155 - binary_accuracy: 0.9962 - val_loss: 0.3028 - val_binary_accuracy: 0.9286\n",
            "Epoch 26/30\n",
            "33/33 [==============================] - 2s 54ms/step - loss: 0.0145 - binary_accuracy: 0.9942 - val_loss: 0.5093 - val_binary_accuracy: 0.8956\n",
            "Epoch 27/30\n",
            "33/33 [==============================] - 2s 54ms/step - loss: 0.0233 - binary_accuracy: 0.9923 - val_loss: 0.3147 - val_binary_accuracy: 0.9121\n",
            "Epoch 28/30\n",
            "33/33 [==============================] - 2s 54ms/step - loss: 0.0055 - binary_accuracy: 0.9962 - val_loss: 0.4696 - val_binary_accuracy: 0.9011\n",
            "Epoch 29/30\n",
            "33/33 [==============================] - 2s 54ms/step - loss: 0.0028 - binary_accuracy: 1.0000 - val_loss: 0.4906 - val_binary_accuracy: 0.8956\n",
            "Epoch 30/30\n",
            "33/33 [==============================] - 2s 54ms/step - loss: 0.0015 - binary_accuracy: 1.0000 - val_loss: 0.5229 - val_binary_accuracy: 0.8956\n"
          ],
          "name": "stdout"
        },
        {
          "output_type": "execute_result",
          "data": {
            "text/plain": [
              "<tensorflow.python.keras.callbacks.History at 0x7f85be102cc0>"
            ]
          },
          "metadata": {
            "tags": []
          },
          "execution_count": 69
        }
      ]
    },
    {
      "cell_type": "markdown",
      "metadata": {
        "id": "TZv6up8EiRy5",
        "colab_type": "text"
      },
      "source": [
        "# Custom CNN Model with Image Manipulations\n",
        "\n",
        "To simulate an increase in a sample of image, you can apply image manipulation techniques: cropping, rotation, stretching, etc. Luckily Keras has some handy functions for us to apply these techniques to our mountain and forest example. Simply, you should be able to modify our image generator for the problem. Check out these resources to help you get started: \n",
        "\n",
        "1. [Keras `ImageGenerator` Class](https://keras.io/preprocessing/image/#imagedatagenerator-class)\n",
        "2. [Building a powerful image classifier with very little data](https://blog.keras.io/building-powerful-image-classification-models-using-very-little-data.html)\n",
        " "
      ]
    },
    {
      "cell_type": "code",
      "metadata": {
        "id": "buFxrBjSiRy5",
        "colab_type": "code",
        "colab": {}
      },
      "source": [
        "train_image_generator = ImageDataGenerator(rescale=1./255, rotation_range=90, width_shift_range=.5, height_shift_range=.5)\n",
        "validation_image_generator = ImageDataGenerator(rescale=1./255, rotation_range=90, width_shift_range=.5, height_shift_range=.5)"
      ],
      "execution_count": 70,
      "outputs": []
    },
    {
      "cell_type": "code",
      "metadata": {
        "id": "TFOvde1NYhVZ",
        "colab_type": "code",
        "colab": {
          "base_uri": "https://localhost:8080/",
          "height": 34
        },
        "outputId": "c28637a1-f0c0-41d4-c6b6-a32e28222a95"
      },
      "source": [
        "train_data_gen = train_image_generator.flow_from_directory(batch_size=batch_size,\n",
        "                                                           directory=train_dir,\n",
        "                                                           shuffle=True,\n",
        "                                                           target_size=(IMG_HEIGHT, IMG_WIDTH),\n",
        "                                                           class_mode='binary')"
      ],
      "execution_count": 71,
      "outputs": [
        {
          "output_type": "stream",
          "text": [
            "Found 520 images belonging to 2 classes.\n"
          ],
          "name": "stdout"
        }
      ]
    },
    {
      "cell_type": "code",
      "metadata": {
        "id": "jSgU860RYoM8",
        "colab_type": "code",
        "colab": {
          "base_uri": "https://localhost:8080/",
          "height": 34
        },
        "outputId": "cd81eaec-2f32-4518-d42d-7f4f65a693ce"
      },
      "source": [
        "val_data_gen = validation_image_generator.flow_from_directory(batch_size=batch_size,\n",
        "                                                              directory=validation_dir,\n",
        "                                                              target_size=(IMG_HEIGHT, IMG_WIDTH),\n",
        "                                                              class_mode='binary')"
      ],
      "execution_count": 72,
      "outputs": [
        {
          "output_type": "stream",
          "text": [
            "Found 182 images belonging to 2 classes.\n"
          ],
          "name": "stdout"
        }
      ]
    },
    {
      "cell_type": "code",
      "metadata": {
        "id": "5gRGU7fOYtDC",
        "colab_type": "code",
        "colab": {}
      },
      "source": [
        "model = Sequential()\n",
        "model.add(Conv2D(32, (3,3), activation='relu', input_shape=(IMG_HEIGHT, IMG_WIDTH, 3)))\n",
        "model.add(MaxPooling2D((2,2)))\n",
        "model.add(Dropout(0.2))\n",
        "\n",
        "model.add(Conv2D(32, (3,3), activation='relu'))\n",
        "model.add(Flatten())\n",
        "model.add(Dense(16, activation='relu'))\n",
        "model.add(Dropout(0.2))\n",
        "\n",
        "model.add(Dense(1, activation='sigmoid'))"
      ],
      "execution_count": 73,
      "outputs": []
    },
    {
      "cell_type": "code",
      "metadata": {
        "id": "7gtPLDp7Y2Ew",
        "colab_type": "code",
        "colab": {}
      },
      "source": [
        "model.compile(optimizer='adam', loss='binary_crossentropy', metrics=['binary_accuracy'])"
      ],
      "execution_count": 74,
      "outputs": []
    },
    {
      "cell_type": "code",
      "metadata": {
        "id": "frA2mcY4Y5Vb",
        "colab_type": "code",
        "colab": {
          "base_uri": "https://localhost:8080/",
          "height": 1000
        },
        "outputId": "2cf9e669-ba7f-4d42-8e50-1c1a8f7f1c67"
      },
      "source": [
        "model.fit(\n",
        "    train_data_gen,\n",
        "    epochs=30,\n",
        "    validation_data=val_data_gen\n",
        ")"
      ],
      "execution_count": 75,
      "outputs": [
        {
          "output_type": "stream",
          "text": [
            "Epoch 1/30\n",
            "33/33 [==============================] - 8s 257ms/step - loss: 0.5901 - binary_accuracy: 0.7731 - val_loss: 0.4320 - val_binary_accuracy: 0.8571\n",
            "Epoch 2/30\n",
            "33/33 [==============================] - 8s 246ms/step - loss: 0.3723 - binary_accuracy: 0.8596 - val_loss: 0.4972 - val_binary_accuracy: 0.8352\n",
            "Epoch 3/30\n",
            "33/33 [==============================] - 8s 247ms/step - loss: 0.4565 - binary_accuracy: 0.8038 - val_loss: 0.4804 - val_binary_accuracy: 0.8077\n",
            "Epoch 4/30\n",
            "33/33 [==============================] - 8s 247ms/step - loss: 0.3844 - binary_accuracy: 0.8346 - val_loss: 0.3130 - val_binary_accuracy: 0.8681\n",
            "Epoch 5/30\n",
            "33/33 [==============================] - 8s 246ms/step - loss: 0.2644 - binary_accuracy: 0.9135 - val_loss: 0.2890 - val_binary_accuracy: 0.9011\n",
            "Epoch 6/30\n",
            "33/33 [==============================] - 8s 247ms/step - loss: 0.3328 - binary_accuracy: 0.8769 - val_loss: 0.3573 - val_binary_accuracy: 0.8242\n",
            "Epoch 7/30\n",
            "33/33 [==============================] - 8s 248ms/step - loss: 0.3293 - binary_accuracy: 0.8538 - val_loss: 0.3434 - val_binary_accuracy: 0.8791\n",
            "Epoch 8/30\n",
            "33/33 [==============================] - 8s 246ms/step - loss: 0.3023 - binary_accuracy: 0.9019 - val_loss: 0.3148 - val_binary_accuracy: 0.8791\n",
            "Epoch 9/30\n",
            "33/33 [==============================] - 8s 247ms/step - loss: 0.2963 - binary_accuracy: 0.8923 - val_loss: 0.3586 - val_binary_accuracy: 0.9011\n",
            "Epoch 10/30\n",
            "33/33 [==============================] - 8s 248ms/step - loss: 0.3181 - binary_accuracy: 0.8731 - val_loss: 0.5209 - val_binary_accuracy: 0.8077\n",
            "Epoch 11/30\n",
            "33/33 [==============================] - 8s 248ms/step - loss: 0.3293 - binary_accuracy: 0.8654 - val_loss: 0.2893 - val_binary_accuracy: 0.8901\n",
            "Epoch 12/30\n",
            "33/33 [==============================] - 8s 246ms/step - loss: 0.3084 - binary_accuracy: 0.8942 - val_loss: 0.3063 - val_binary_accuracy: 0.8462\n",
            "Epoch 13/30\n",
            "33/33 [==============================] - 8s 246ms/step - loss: 0.3200 - binary_accuracy: 0.8942 - val_loss: 0.3777 - val_binary_accuracy: 0.8352\n",
            "Epoch 14/30\n",
            "33/33 [==============================] - 8s 248ms/step - loss: 0.2667 - binary_accuracy: 0.8904 - val_loss: 0.3734 - val_binary_accuracy: 0.8407\n",
            "Epoch 15/30\n",
            "33/33 [==============================] - 8s 247ms/step - loss: 0.2841 - binary_accuracy: 0.8808 - val_loss: 0.2923 - val_binary_accuracy: 0.8571\n",
            "Epoch 16/30\n",
            "33/33 [==============================] - 8s 248ms/step - loss: 0.3017 - binary_accuracy: 0.8827 - val_loss: 0.3059 - val_binary_accuracy: 0.9011\n",
            "Epoch 17/30\n",
            "33/33 [==============================] - 8s 245ms/step - loss: 0.3373 - binary_accuracy: 0.8769 - val_loss: 0.2680 - val_binary_accuracy: 0.9121\n",
            "Epoch 18/30\n",
            "33/33 [==============================] - 8s 247ms/step - loss: 0.2722 - binary_accuracy: 0.8788 - val_loss: 0.3167 - val_binary_accuracy: 0.8626\n",
            "Epoch 19/30\n",
            "33/33 [==============================] - 8s 247ms/step - loss: 0.2397 - binary_accuracy: 0.8962 - val_loss: 0.2900 - val_binary_accuracy: 0.8846\n",
            "Epoch 20/30\n",
            "33/33 [==============================] - 8s 248ms/step - loss: 0.3067 - binary_accuracy: 0.8788 - val_loss: 0.4032 - val_binary_accuracy: 0.8681\n",
            "Epoch 21/30\n",
            "33/33 [==============================] - 8s 247ms/step - loss: 0.2394 - binary_accuracy: 0.9038 - val_loss: 0.2460 - val_binary_accuracy: 0.8956\n",
            "Epoch 22/30\n",
            "33/33 [==============================] - 8s 246ms/step - loss: 0.3060 - binary_accuracy: 0.8942 - val_loss: 0.2947 - val_binary_accuracy: 0.8626\n",
            "Epoch 23/30\n",
            "33/33 [==============================] - 8s 247ms/step - loss: 0.2913 - binary_accuracy: 0.8981 - val_loss: 0.2926 - val_binary_accuracy: 0.8736\n",
            "Epoch 24/30\n",
            "33/33 [==============================] - 8s 247ms/step - loss: 0.2814 - binary_accuracy: 0.8962 - val_loss: 0.2837 - val_binary_accuracy: 0.8626\n",
            "Epoch 25/30\n",
            "33/33 [==============================] - 8s 247ms/step - loss: 0.2697 - binary_accuracy: 0.8712 - val_loss: 0.3725 - val_binary_accuracy: 0.8352\n",
            "Epoch 26/30\n",
            "33/33 [==============================] - 8s 246ms/step - loss: 0.2971 - binary_accuracy: 0.8962 - val_loss: 0.3256 - val_binary_accuracy: 0.8516\n",
            "Epoch 27/30\n",
            "33/33 [==============================] - 8s 247ms/step - loss: 0.2983 - binary_accuracy: 0.8923 - val_loss: 0.4209 - val_binary_accuracy: 0.8077\n",
            "Epoch 28/30\n",
            "33/33 [==============================] - 8s 247ms/step - loss: 0.3334 - binary_accuracy: 0.9096 - val_loss: 0.2666 - val_binary_accuracy: 0.8791\n",
            "Epoch 29/30\n",
            "33/33 [==============================] - 8s 248ms/step - loss: 0.2541 - binary_accuracy: 0.9077 - val_loss: 0.3248 - val_binary_accuracy: 0.8297\n",
            "Epoch 30/30\n",
            "33/33 [==============================] - 8s 248ms/step - loss: 0.2729 - binary_accuracy: 0.9135 - val_loss: 0.2785 - val_binary_accuracy: 0.8736\n"
          ],
          "name": "stdout"
        },
        {
          "output_type": "execute_result",
          "data": {
            "text/plain": [
              "<tensorflow.python.keras.callbacks.History at 0x7f85be221550>"
            ]
          },
          "metadata": {
            "tags": []
          },
          "execution_count": 75
        }
      ]
    },
    {
      "cell_type": "markdown",
      "metadata": {
        "colab_type": "text",
        "id": "uT3UV3gap9H6"
      },
      "source": [
        "# Resources and Stretch Goals\n",
        "\n",
        "Stretch goals\n",
        "- Enhance your code to use classes/functions and accept terms to search and classes to look for in recognizing the downloaded images (e.g. download images of parties, recognize all that contain balloons)\n",
        "- Check out [other available pretrained networks](https://tfhub.dev), try some and compare\n",
        "- Image recognition/classification is somewhat solved, but *relationships* between entities and describing an image is not - check out some of the extended resources (e.g. [Visual Genome](https://visualgenome.org/)) on the topic\n",
        "- Transfer learning - using images you source yourself, [retrain a classifier](https://www.tensorflow.org/hub/tutorials/image_retraining) with a new category\n",
        "- (Not CNN related) Use [piexif](https://pypi.org/project/piexif/) to check out the metadata of images passed in to your system - see if they're from a national park! (Note - many images lack GPS metadata, so this won't work in most cases, but still cool)\n",
        "\n",
        "Resources\n",
        "- [Deep Residual Learning for Image Recognition](https://arxiv.org/abs/1512.03385) - influential paper (introduced ResNet)\n",
        "- [YOLO: Real-Time Object Detection](https://pjreddie.com/darknet/yolo/) - an influential convolution based object detection system, focused on inference speed (for applications to e.g. self driving vehicles)\n",
        "- [R-CNN, Fast R-CNN, Faster R-CNN, YOLO](https://towardsdatascience.com/r-cnn-fast-r-cnn-faster-r-cnn-yolo-object-detection-algorithms-36d53571365e) - comparison of object detection systems\n",
        "- [Common Objects in Context](http://cocodataset.org/) - a large-scale object detection, segmentation, and captioning dataset\n",
        "- [Visual Genome](https://visualgenome.org/) - a dataset, a knowledge base, an ongoing effort to connect structured image concepts to language"
      ]
    }
  ]
}